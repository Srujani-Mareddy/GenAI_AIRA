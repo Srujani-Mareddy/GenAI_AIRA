{
 "cells": [
  {
   "cell_type": "code",
   "execution_count": 31,
   "metadata": {},
   "outputs": [],
   "source": [
    "from langchain.embeddings import HuggingFaceEmbeddings\n",
    "from langchain.vectorstores import FAISS\n",
    "from langchain.document_loaders import PyPDFDirectoryLoader\n",
    "from langchain.text_splitter import RecursiveCharacterTextSplitter\n",
    "import os\n",
    "import pickle"
   ]
  },
  {
   "cell_type": "code",
   "execution_count": 32,
   "metadata": {},
   "outputs": [],
   "source": [
    "\n",
    "file_path='/Users/nithyasreekusakula/Documents/Text Analytics/Project'"
   ]
  },
  {
   "cell_type": "code",
   "execution_count": 33,
   "metadata": {},
   "outputs": [
    {
     "name": "stdout",
     "output_type": "stream",
     "text": [
      "PDF files found: 213\n"
     ]
    }
   ],
   "source": [
    "pdf_files = [f for f in os.listdir(file_path) if f.endswith('.pdf')]\n",
    "print(f\"PDF files found: {len(pdf_files)}\")"
   ]
  },
  {
   "cell_type": "code",
   "execution_count": 29,
   "metadata": {},
   "outputs": [
    {
     "name": "stdout",
     "output_type": "stream",
     "text": [
      "Number of documents loaded: 2079\n",
      "Number of chunks created: 12128\n",
      "Vectors with Hugging Face embeddings created and stored successfully!\n"
     ]
    }
   ],
   "source": [
    "#Contributed by: Navyamsh Gangavaram and Nithyasree Kusakula\n",
    "\n",
    "def create_and_store_vectors():\n",
    "    embeddings = HuggingFaceEmbeddings(model_name=\"sentence-transformers/all-MiniLM-L6-v2\")\n",
    "    loader = PyPDFDirectoryLoader(file_path)\n",
    "    docs = loader.load()\n",
    "    print(f\"Number of documents loaded: {len(docs)}\")\n",
    "    text_splitter = RecursiveCharacterTextSplitter(chunk_size=1000, chunk_overlap=200)\n",
    "    final_documents = text_splitter.split_documents(docs)\n",
    "    print(f\"Number of chunks created: {len(final_documents)}\")\n",
    "    \n",
    "    vectors = FAISS.from_documents(final_documents, embeddings)\n",
    "\n",
    "    with open(\"faiss_store_hf.pkl\", \"wb\") as f:\n",
    "        pickle.dump(vectors, f)\n",
    "    print(\"Vectors with Hugging Face embeddings created and stored successfully!\")\n",
    "\n",
    "\n",
    "create_and_store_vectors()\n"
   ]
  }
 ],
 "metadata": {
  "kernelspec": {
   "display_name": "Python 3",
   "language": "python",
   "name": "python3"
  },
  "language_info": {
   "codemirror_mode": {
    "name": "ipython",
    "version": 3
   },
   "file_extension": ".py",
   "mimetype": "text/x-python",
   "name": "python",
   "nbconvert_exporter": "python",
   "pygments_lexer": "ipython3",
   "version": "3.12.0"
  }
 },
 "nbformat": 4,
 "nbformat_minor": 2
}
